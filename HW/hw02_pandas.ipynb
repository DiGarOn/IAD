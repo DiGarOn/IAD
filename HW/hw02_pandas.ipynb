{
 "cells": [
  {
   "cell_type": "markdown",
   "metadata": {
    "_uuid": "21c25e4f8bb31570029fd6b069131a5d00f84cf1"
   },
   "source": [
    "# Домашнее задание 2 (5 баллов).\n",
    "\n",
    "Все задания ниже имеют равный вес (5/16)."
   ]
  },
  {
   "cell_type": "code",
   "execution_count": 84,
   "metadata": {
    "_uuid": "568eb2d31004b87d22e119112ae01a1e75105f1d"
   },
   "outputs": [],
   "source": [
    "import pandas as pd\n",
    "import os\n",
    "from datetime import datetime"
   ]
  },
  {
   "cell_type": "markdown",
   "metadata": {},
   "source": [
    "#### Описание данных\n",
    "\n",
    "В папке Data находится информация о студентах. Всего 10 групп студентов. Файлы делятся на две категории:\n",
    "    * Students_info_i - информация о студентах из группы i\n",
    "    * Students_marks_i - оценки студентов из группы i за экзамены"
   ]
  },
  {
   "cell_type": "markdown",
   "metadata": {},
   "source": [
    "### Одно из важных достоинств pandas $-$ это удобные методы реляционного взаимодействия с данными, аналогичные, например, возможностям SQL для слияния и конкатенации таблиц: merge, join, concat. Наличие готовых методов позволяет не реализовывать самостоятельно поэлементную обработку данных и оперировать сразу целыми таблицами данных.\n",
    "\n",
    "Подробно об этих методах посмотрите тут: https://www.kaggle.com/residentmario/renaming-and-combining#Combining"
   ]
  },
  {
   "cell_type": "markdown",
   "metadata": {},
   "source": [
    "#### Задание 1. Соберите всю информацию о студентах в одну таблицу df. В получившейся таблице должна быть информация и оценки всех студентов из всех групп. Напечатайте несколько строк таблицы для демонстрации результата.¶"
   ]
  },
  {
   "cell_type": "code",
   "execution_count": 35,
   "metadata": {},
   "outputs": [
    {
     "data": {
      "text/plain": "     index  gender race/ethnicity parental level of education         lunch  \\\n0      100    male        group B                some college      standard   \n1      101    male        group D           bachelor's degree      standard   \n2      102  female        group D          associate's degree      standard   \n3      103    male        group B                 high school      standard   \n4      104    male        group C                some college      standard   \n..     ...     ...            ...                         ...           ...   \n995    995  female        group E             master's degree      standard   \n996    996    male        group C                 high school  free/reduced   \n997    997  female        group C                 high school  free/reduced   \n998    998  female        group D                some college      standard   \n999    999  female        group D                some college  free/reduced   \n\n    test preparation course    group  math score  reading score  writing score  \n0                      none   group2          79             67             67  \n1                 completed   group2          68             74             74  \n2                      none   group2          85             91             89  \n3                 completed   group2          60             44             47  \n4                 completed   group2          98             86             90  \n..                      ...      ...         ...            ...            ...  \n995               completed  group10          88             99             95  \n996                    none  group10          62             55             55  \n997               completed  group10          59             71             65  \n998               completed  group10          68             78             77  \n999                    none  group10          77             86             86  \n\n[1000 rows x 10 columns]",
      "text/html": "<div>\n<style scoped>\n    .dataframe tbody tr th:only-of-type {\n        vertical-align: middle;\n    }\n\n    .dataframe tbody tr th {\n        vertical-align: top;\n    }\n\n    .dataframe thead th {\n        text-align: right;\n    }\n</style>\n<table border=\"1\" class=\"dataframe\">\n  <thead>\n    <tr style=\"text-align: right;\">\n      <th></th>\n      <th>index</th>\n      <th>gender</th>\n      <th>race/ethnicity</th>\n      <th>parental level of education</th>\n      <th>lunch</th>\n      <th>test preparation course</th>\n      <th>group</th>\n      <th>math score</th>\n      <th>reading score</th>\n      <th>writing score</th>\n    </tr>\n  </thead>\n  <tbody>\n    <tr>\n      <th>0</th>\n      <td>100</td>\n      <td>male</td>\n      <td>group B</td>\n      <td>some college</td>\n      <td>standard</td>\n      <td>none</td>\n      <td>group2</td>\n      <td>79</td>\n      <td>67</td>\n      <td>67</td>\n    </tr>\n    <tr>\n      <th>1</th>\n      <td>101</td>\n      <td>male</td>\n      <td>group D</td>\n      <td>bachelor's degree</td>\n      <td>standard</td>\n      <td>completed</td>\n      <td>group2</td>\n      <td>68</td>\n      <td>74</td>\n      <td>74</td>\n    </tr>\n    <tr>\n      <th>2</th>\n      <td>102</td>\n      <td>female</td>\n      <td>group D</td>\n      <td>associate's degree</td>\n      <td>standard</td>\n      <td>none</td>\n      <td>group2</td>\n      <td>85</td>\n      <td>91</td>\n      <td>89</td>\n    </tr>\n    <tr>\n      <th>3</th>\n      <td>103</td>\n      <td>male</td>\n      <td>group B</td>\n      <td>high school</td>\n      <td>standard</td>\n      <td>completed</td>\n      <td>group2</td>\n      <td>60</td>\n      <td>44</td>\n      <td>47</td>\n    </tr>\n    <tr>\n      <th>4</th>\n      <td>104</td>\n      <td>male</td>\n      <td>group C</td>\n      <td>some college</td>\n      <td>standard</td>\n      <td>completed</td>\n      <td>group2</td>\n      <td>98</td>\n      <td>86</td>\n      <td>90</td>\n    </tr>\n    <tr>\n      <th>...</th>\n      <td>...</td>\n      <td>...</td>\n      <td>...</td>\n      <td>...</td>\n      <td>...</td>\n      <td>...</td>\n      <td>...</td>\n      <td>...</td>\n      <td>...</td>\n      <td>...</td>\n    </tr>\n    <tr>\n      <th>995</th>\n      <td>995</td>\n      <td>female</td>\n      <td>group E</td>\n      <td>master's degree</td>\n      <td>standard</td>\n      <td>completed</td>\n      <td>group10</td>\n      <td>88</td>\n      <td>99</td>\n      <td>95</td>\n    </tr>\n    <tr>\n      <th>996</th>\n      <td>996</td>\n      <td>male</td>\n      <td>group C</td>\n      <td>high school</td>\n      <td>free/reduced</td>\n      <td>none</td>\n      <td>group10</td>\n      <td>62</td>\n      <td>55</td>\n      <td>55</td>\n    </tr>\n    <tr>\n      <th>997</th>\n      <td>997</td>\n      <td>female</td>\n      <td>group C</td>\n      <td>high school</td>\n      <td>free/reduced</td>\n      <td>completed</td>\n      <td>group10</td>\n      <td>59</td>\n      <td>71</td>\n      <td>65</td>\n    </tr>\n    <tr>\n      <th>998</th>\n      <td>998</td>\n      <td>female</td>\n      <td>group D</td>\n      <td>some college</td>\n      <td>standard</td>\n      <td>completed</td>\n      <td>group10</td>\n      <td>68</td>\n      <td>78</td>\n      <td>77</td>\n    </tr>\n    <tr>\n      <th>999</th>\n      <td>999</td>\n      <td>female</td>\n      <td>group D</td>\n      <td>some college</td>\n      <td>free/reduced</td>\n      <td>none</td>\n      <td>group10</td>\n      <td>77</td>\n      <td>86</td>\n      <td>86</td>\n    </tr>\n  </tbody>\n</table>\n<p>1000 rows × 10 columns</p>\n</div>"
     },
     "execution_count": 35,
     "metadata": {},
     "output_type": "execute_result"
    }
   ],
   "source": [
    "path = \"Data\"\n",
    "archive_list = os.listdir(path)\n",
    "\n",
    "marks = pd.DataFrame()\n",
    "info = pd.DataFrame()\n",
    "\n",
    "for file in archive_list:\n",
    "    if not os.path.splitext(os.path.join(path, file))[1] == \".csv\":\n",
    "        continue\n",
    "    file_path = os.path.join(path, file)\n",
    "    if \"marks\" in os.path.splitext(file_path)[0]:\n",
    "        marks = pd.concat([marks, pd.read_csv(file_path)], ignore_index=True)\n",
    "    if \"info\" in os.path.splitext(file_path)[0]:\n",
    "        info = pd.concat([info, pd.read_csv(file_path)], ignore_index=True)\n",
    "df = info.merge(marks, on = \"index\", how = \"outer\")\n",
    "df"
   ]
  },
  {
   "cell_type": "markdown",
   "metadata": {
    "_uuid": "8524af4cbd2f7b7810e8a3095a74c9fe1df7eafa"
   },
   "source": [
    "#### Задание 2. Удалите столбец index у полученной таблицы. Напечатайте первые 10 строк таблицы."
   ]
  },
  {
   "cell_type": "code",
   "execution_count": 36,
   "metadata": {
    "_uuid": "fe62eee87b9b94ab923f57b55eaf0554612aa9e9"
   },
   "outputs": [
    {
     "data": {
      "text/plain": "   gender race/ethnicity parental level of education         lunch  \\\n0    male        group B                some college      standard   \n1    male        group D           bachelor's degree      standard   \n2  female        group D          associate's degree      standard   \n3    male        group B                 high school      standard   \n4    male        group C                some college      standard   \n5  female        group C                some college      standard   \n6  female        group D             master's degree      standard   \n7    male        group E          associate's degree      standard   \n8  female        group B          associate's degree  free/reduced   \n9  female        group B            some high school      standard   \n\n  test preparation course   group  math score  reading score  writing score  \n0                    none  group2          79             67             67  \n1               completed  group2          68             74             74  \n2                    none  group2          85             91             89  \n3               completed  group2          60             44             47  \n4               completed  group2          98             86             90  \n5                    none  group2          58             67             72  \n6                    none  group2          87            100            100  \n7               completed  group2          66             63             64  \n8                    none  group2          52             76             70  \n9                    none  group2          70             64             72  ",
      "text/html": "<div>\n<style scoped>\n    .dataframe tbody tr th:only-of-type {\n        vertical-align: middle;\n    }\n\n    .dataframe tbody tr th {\n        vertical-align: top;\n    }\n\n    .dataframe thead th {\n        text-align: right;\n    }\n</style>\n<table border=\"1\" class=\"dataframe\">\n  <thead>\n    <tr style=\"text-align: right;\">\n      <th></th>\n      <th>gender</th>\n      <th>race/ethnicity</th>\n      <th>parental level of education</th>\n      <th>lunch</th>\n      <th>test preparation course</th>\n      <th>group</th>\n      <th>math score</th>\n      <th>reading score</th>\n      <th>writing score</th>\n    </tr>\n  </thead>\n  <tbody>\n    <tr>\n      <th>0</th>\n      <td>male</td>\n      <td>group B</td>\n      <td>some college</td>\n      <td>standard</td>\n      <td>none</td>\n      <td>group2</td>\n      <td>79</td>\n      <td>67</td>\n      <td>67</td>\n    </tr>\n    <tr>\n      <th>1</th>\n      <td>male</td>\n      <td>group D</td>\n      <td>bachelor's degree</td>\n      <td>standard</td>\n      <td>completed</td>\n      <td>group2</td>\n      <td>68</td>\n      <td>74</td>\n      <td>74</td>\n    </tr>\n    <tr>\n      <th>2</th>\n      <td>female</td>\n      <td>group D</td>\n      <td>associate's degree</td>\n      <td>standard</td>\n      <td>none</td>\n      <td>group2</td>\n      <td>85</td>\n      <td>91</td>\n      <td>89</td>\n    </tr>\n    <tr>\n      <th>3</th>\n      <td>male</td>\n      <td>group B</td>\n      <td>high school</td>\n      <td>standard</td>\n      <td>completed</td>\n      <td>group2</td>\n      <td>60</td>\n      <td>44</td>\n      <td>47</td>\n    </tr>\n    <tr>\n      <th>4</th>\n      <td>male</td>\n      <td>group C</td>\n      <td>some college</td>\n      <td>standard</td>\n      <td>completed</td>\n      <td>group2</td>\n      <td>98</td>\n      <td>86</td>\n      <td>90</td>\n    </tr>\n    <tr>\n      <th>5</th>\n      <td>female</td>\n      <td>group C</td>\n      <td>some college</td>\n      <td>standard</td>\n      <td>none</td>\n      <td>group2</td>\n      <td>58</td>\n      <td>67</td>\n      <td>72</td>\n    </tr>\n    <tr>\n      <th>6</th>\n      <td>female</td>\n      <td>group D</td>\n      <td>master's degree</td>\n      <td>standard</td>\n      <td>none</td>\n      <td>group2</td>\n      <td>87</td>\n      <td>100</td>\n      <td>100</td>\n    </tr>\n    <tr>\n      <th>7</th>\n      <td>male</td>\n      <td>group E</td>\n      <td>associate's degree</td>\n      <td>standard</td>\n      <td>completed</td>\n      <td>group2</td>\n      <td>66</td>\n      <td>63</td>\n      <td>64</td>\n    </tr>\n    <tr>\n      <th>8</th>\n      <td>female</td>\n      <td>group B</td>\n      <td>associate's degree</td>\n      <td>free/reduced</td>\n      <td>none</td>\n      <td>group2</td>\n      <td>52</td>\n      <td>76</td>\n      <td>70</td>\n    </tr>\n    <tr>\n      <th>9</th>\n      <td>female</td>\n      <td>group B</td>\n      <td>some high school</td>\n      <td>standard</td>\n      <td>none</td>\n      <td>group2</td>\n      <td>70</td>\n      <td>64</td>\n      <td>72</td>\n    </tr>\n  </tbody>\n</table>\n</div>"
     },
     "execution_count": 36,
     "metadata": {},
     "output_type": "execute_result"
    }
   ],
   "source": [
    "df = df.drop(columns = marks.columns[0])\n",
    "df.head(10)"
   ]
  },
  {
   "cell_type": "markdown",
   "metadata": {
    "_uuid": "5fcd622942b7ecfc318934c6a245d3bb3bf01e84"
   },
   "source": [
    "#### Задание 3. Выведите на экран размеры полученной таблицы"
   ]
  },
  {
   "cell_type": "code",
   "execution_count": 38,
   "metadata": {
    "_uuid": "16281cd7b4e941ebed8ca2e1b42f62f55d838684"
   },
   "outputs": [
    {
     "data": {
      "text/plain": "(1000, 9)"
     },
     "execution_count": 38,
     "metadata": {},
     "output_type": "execute_result"
    }
   ],
   "source": [
    "df.shape"
   ]
  },
  {
   "cell_type": "markdown",
   "metadata": {
    "_uuid": "fe8e3d58d29ca25dbbcf001392377643e6ff9a36"
   },
   "source": [
    "#### Задание 4. Выведите на экран статистические характеристики числовых столбцов таблицы (минимум, максимум, среднее значение, стандартное отклонение)"
   ]
  },
  {
   "cell_type": "code",
   "execution_count": 79,
   "metadata": {
    "_uuid": "e3d4bb80d2c4251fe517c24fcf08c5ff2d67b8aa"
   },
   "outputs": [
    {
     "name": "stdout",
     "output_type": "stream",
     "text": [
      "{'math score': [0, 100, 66.089, 15.16308009600947], 'reading score': [17, 100, 69.169, 14.600191937252228], 'writing score': [10, 100, 68.054, 15.195657010869647]}\n",
      "min       0.00000\n",
      "max     100.00000\n",
      "mean     66.08900\n",
      "std      15.16308\n",
      "Name: math score, dtype: float64\n",
      "min      17.000000\n",
      "max     100.000000\n",
      "mean     69.169000\n",
      "std      14.600192\n",
      "Name: reading score, dtype: float64\n",
      "min      10.000000\n",
      "max     100.000000\n",
      "mean     68.054000\n",
      "std      15.195657\n",
      "Name: writing score, dtype: float64\n"
     ]
    }
   ],
   "source": [
    "print({\"math score\" : [df[\"math score\"].min(),\n",
    "df[\"math score\"].max(),\n",
    "df[\"math score\"].mean(),\n",
    "df[\"math score\"].std()],\n",
    "\"reading score\" : [df[\"reading score\"].min(),\n",
    "df[\"reading score\"].max(),\n",
    "df[\"reading score\"].mean(),\n",
    "df[\"reading score\"].std()],\n",
    "\"writing score\" : [df[\"writing score\"].min(),\n",
    "df[\"writing score\"].max(),\n",
    "df[\"writing score\"].mean(),\n",
    "df[\"writing score\"].std()]})\n",
    "\n",
    "#another solution:\n",
    "print(df[\"math score\"].agg(['min', 'max', 'mean', 'std']))\n",
    "print(df[\"reading score\"].agg(['min', 'max', 'mean', 'std']))\n",
    "print(df[\"writing score\"].agg(['min', 'max', 'mean', 'std']))\n"
   ]
  },
  {
   "cell_type": "markdown",
   "metadata": {
    "_uuid": "b26b7de83485ecb3b8a0a7865a596e24527c7b2f"
   },
   "source": [
    "#### Задание 5. Проверьте, есть ли в таблице пропущенные значения"
   ]
  },
  {
   "cell_type": "code",
   "execution_count": 54,
   "metadata": {
    "_uuid": "4eac3f8f83d07c6e58ad1576fe0e773f37034a2f"
   },
   "outputs": [
    {
     "data": {
      "text/plain": "False"
     },
     "execution_count": 54,
     "metadata": {},
     "output_type": "execute_result"
    }
   ],
   "source": [
    "df.isnull().values.any()"
   ]
  },
  {
   "cell_type": "markdown",
   "metadata": {},
   "source": [
    "#### Задание 6. Выведите на экран средние баллы студентов по каждому предмету (math, reading, writing)"
   ]
  },
  {
   "cell_type": "code",
   "execution_count": 55,
   "metadata": {},
   "outputs": [
    {
     "data": {
      "text/plain": "[66.089, 69.169, 68.054]"
     },
     "execution_count": 55,
     "metadata": {},
     "output_type": "execute_result"
    }
   ],
   "source": [
    "[df[\"math score\"].mean(), df[\"reading score\"].mean(), df[\"writing score\"].mean()]"
   ]
  },
  {
   "cell_type": "markdown",
   "metadata": {},
   "source": [
    "**Задание 7. Как зависят оценки от того, проходил ли студент курс для подготовки к сдаче экзамена (test preparation course)? Выведите на экран для каждого предмета в отдельности средний балл студентов, проходивших курс для подготовки к экзамену и не проходивших курс.**"
   ]
  },
  {
   "cell_type": "code",
   "execution_count": 57,
   "metadata": {},
   "outputs": [
    {
     "data": {
      "text/plain": "[69.69553072625699, 73.89385474860335, 74.41899441340782]"
     },
     "execution_count": 57,
     "metadata": {},
     "output_type": "execute_result"
    }
   ],
   "source": [
    "[df.loc[df[\"test preparation course\"] == \"completed\"][\"math score\"].mean(),\n",
    "df.loc[df[\"test preparation course\"] == \"completed\"][\"reading score\"].mean(),\n",
    "df.loc[df[\"test preparation course\"] == \"completed\"][\"writing score\"].mean()]"
   ]
  },
  {
   "cell_type": "markdown",
   "metadata": {},
   "source": [
    "**Задание 8. Выведите на экран все различные значения из столбца lunch.**"
   ]
  },
  {
   "cell_type": "code",
   "execution_count": 58,
   "metadata": {},
   "outputs": [
    {
     "data": {
      "text/plain": "array(['standard', 'free/reduced'], dtype=object)"
     },
     "execution_count": 58,
     "metadata": {},
     "output_type": "execute_result"
    }
   ],
   "source": [
    "df.lunch.unique()"
   ]
  },
  {
   "cell_type": "markdown",
   "metadata": {},
   "source": [
    "**Задание 9. Переименуйте колонку \"parental level of education\" в \"education\", а \"test preparation course\" в \"test preparation\" с помощью метода pandas rename**\n",
    "https://pandas.pydata.org/pandas-docs/stable/reference/api/pandas.DataFrame.rename.html"
   ]
  },
  {
   "cell_type": "code",
   "execution_count": 61,
   "metadata": {},
   "outputs": [
    {
     "data": {
      "text/plain": "     gender race/ethnicity           education         lunch test preparation  \\\n0      male        group B        some college      standard             none   \n1      male        group D   bachelor's degree      standard        completed   \n2    female        group D  associate's degree      standard             none   \n3      male        group B         high school      standard        completed   \n4      male        group C        some college      standard        completed   \n..      ...            ...                 ...           ...              ...   \n995  female        group E     master's degree      standard        completed   \n996    male        group C         high school  free/reduced             none   \n997  female        group C         high school  free/reduced        completed   \n998  female        group D        some college      standard        completed   \n999  female        group D        some college  free/reduced             none   \n\n       group  math score  reading score  writing score  \n0     group2          79             67             67  \n1     group2          68             74             74  \n2     group2          85             91             89  \n3     group2          60             44             47  \n4     group2          98             86             90  \n..       ...         ...            ...            ...  \n995  group10          88             99             95  \n996  group10          62             55             55  \n997  group10          59             71             65  \n998  group10          68             78             77  \n999  group10          77             86             86  \n\n[1000 rows x 9 columns]",
      "text/html": "<div>\n<style scoped>\n    .dataframe tbody tr th:only-of-type {\n        vertical-align: middle;\n    }\n\n    .dataframe tbody tr th {\n        vertical-align: top;\n    }\n\n    .dataframe thead th {\n        text-align: right;\n    }\n</style>\n<table border=\"1\" class=\"dataframe\">\n  <thead>\n    <tr style=\"text-align: right;\">\n      <th></th>\n      <th>gender</th>\n      <th>race/ethnicity</th>\n      <th>education</th>\n      <th>lunch</th>\n      <th>test preparation</th>\n      <th>group</th>\n      <th>math score</th>\n      <th>reading score</th>\n      <th>writing score</th>\n    </tr>\n  </thead>\n  <tbody>\n    <tr>\n      <th>0</th>\n      <td>male</td>\n      <td>group B</td>\n      <td>some college</td>\n      <td>standard</td>\n      <td>none</td>\n      <td>group2</td>\n      <td>79</td>\n      <td>67</td>\n      <td>67</td>\n    </tr>\n    <tr>\n      <th>1</th>\n      <td>male</td>\n      <td>group D</td>\n      <td>bachelor's degree</td>\n      <td>standard</td>\n      <td>completed</td>\n      <td>group2</td>\n      <td>68</td>\n      <td>74</td>\n      <td>74</td>\n    </tr>\n    <tr>\n      <th>2</th>\n      <td>female</td>\n      <td>group D</td>\n      <td>associate's degree</td>\n      <td>standard</td>\n      <td>none</td>\n      <td>group2</td>\n      <td>85</td>\n      <td>91</td>\n      <td>89</td>\n    </tr>\n    <tr>\n      <th>3</th>\n      <td>male</td>\n      <td>group B</td>\n      <td>high school</td>\n      <td>standard</td>\n      <td>completed</td>\n      <td>group2</td>\n      <td>60</td>\n      <td>44</td>\n      <td>47</td>\n    </tr>\n    <tr>\n      <th>4</th>\n      <td>male</td>\n      <td>group C</td>\n      <td>some college</td>\n      <td>standard</td>\n      <td>completed</td>\n      <td>group2</td>\n      <td>98</td>\n      <td>86</td>\n      <td>90</td>\n    </tr>\n    <tr>\n      <th>...</th>\n      <td>...</td>\n      <td>...</td>\n      <td>...</td>\n      <td>...</td>\n      <td>...</td>\n      <td>...</td>\n      <td>...</td>\n      <td>...</td>\n      <td>...</td>\n    </tr>\n    <tr>\n      <th>995</th>\n      <td>female</td>\n      <td>group E</td>\n      <td>master's degree</td>\n      <td>standard</td>\n      <td>completed</td>\n      <td>group10</td>\n      <td>88</td>\n      <td>99</td>\n      <td>95</td>\n    </tr>\n    <tr>\n      <th>996</th>\n      <td>male</td>\n      <td>group C</td>\n      <td>high school</td>\n      <td>free/reduced</td>\n      <td>none</td>\n      <td>group10</td>\n      <td>62</td>\n      <td>55</td>\n      <td>55</td>\n    </tr>\n    <tr>\n      <th>997</th>\n      <td>female</td>\n      <td>group C</td>\n      <td>high school</td>\n      <td>free/reduced</td>\n      <td>completed</td>\n      <td>group10</td>\n      <td>59</td>\n      <td>71</td>\n      <td>65</td>\n    </tr>\n    <tr>\n      <th>998</th>\n      <td>female</td>\n      <td>group D</td>\n      <td>some college</td>\n      <td>standard</td>\n      <td>completed</td>\n      <td>group10</td>\n      <td>68</td>\n      <td>78</td>\n      <td>77</td>\n    </tr>\n    <tr>\n      <th>999</th>\n      <td>female</td>\n      <td>group D</td>\n      <td>some college</td>\n      <td>free/reduced</td>\n      <td>none</td>\n      <td>group10</td>\n      <td>77</td>\n      <td>86</td>\n      <td>86</td>\n    </tr>\n  </tbody>\n</table>\n<p>1000 rows × 9 columns</p>\n</div>"
     },
     "execution_count": 61,
     "metadata": {},
     "output_type": "execute_result"
    }
   ],
   "source": [
    "df = df.rename(columns={\"parental level of education\": \"education\", \"test preparation course\": \"test preparation\"})\n",
    "df"
   ]
  },
  {
   "cell_type": "markdown",
   "metadata": {},
   "source": [
    "**Зафиксируем минимальный балл для сдачи экзамена**"
   ]
  },
  {
   "cell_type": "code",
   "execution_count": 62,
   "metadata": {},
   "outputs": [],
   "source": [
    "passmark = 50"
   ]
  },
  {
   "cell_type": "markdown",
   "metadata": {},
   "source": [
    "**Задание 10. Ответьте на вопросы:**\n",
    "    * Какая доля студентов сдала экзамен по математике (passmark >= 50)?\n",
    "    * Какая доля студентов, проходивших курс подготовки к экзамену, сдала экзамен по математике?\n",
    "    * Какая доля женщин, не проходивших курс подготовки к экзамену, не сдала экзамен по математике? "
   ]
  },
  {
   "cell_type": "code",
   "execution_count": 74,
   "metadata": {},
   "outputs": [
    {
     "name": "stdout",
     "output_type": "stream",
     "text": [
      "0.865\n",
      "0.9217877094972067\n",
      "0.23353293413173654\n"
     ]
    }
   ],
   "source": [
    "#1\n",
    "print(df.loc[df[\"math score\"] >= 50][\"math score\"].count() / df[\"math score\"].count())\n",
    "#2\n",
    "print(df.loc[(df[\"math score\"] >= 50) & (df[\"test preparation\"] == \"completed\")][\"math score\"].count() / df.loc[df[\"test preparation\"] == \"completed\"][\"math score\"].count())\n",
    "#3\n",
    "print(df.loc[(df[\"gender\"] == \"female\") & (df[\"test preparation\"] == \"none\") & (df[\"math score\"] <= 50)][\"math score\"].count() / df.loc[(df[\"gender\"] == \"female\") & (df[\"test preparation\"] == \"none\")][\"math score\"].count())"
   ]
  },
  {
   "cell_type": "markdown",
   "metadata": {},
   "source": [
    "**Задание 11. С помощью groupby выполните задания ниже. Также выведите время выполнения каждого из заданий.**\n",
    "    * Для каждой этнической группы выведите средний балл за экзамен по чтению\n",
    "    * Для каждого уровня образования выведите минимальный балл за экзамен по письму"
   ]
  },
  {
   "cell_type": "code",
   "execution_count": 85,
   "metadata": {},
   "outputs": [
    {
     "name": "stdout",
     "output_type": "stream",
     "text": [
      "                     mean\n",
      "race/ethnicity           \n",
      "group A         64.674157\n",
      "group B         67.352632\n",
      "group C         69.103448\n",
      "group D         70.030534\n",
      "group E         73.028571\n",
      "0:00:00.047064\n",
      "                    min\n",
      "education              \n",
      "associate's degree   35\n",
      "bachelor's degree    38\n",
      "high school          15\n",
      "master's degree      46\n",
      "some college         19\n",
      "some high school     10\n",
      "0:00:00.006236\n"
     ]
    }
   ],
   "source": [
    "#1\n",
    "start_time = datetime.now()\n",
    "print(df.groupby(['race/ethnicity'])['reading score'].agg(['mean']))\n",
    "print(datetime.now() - start_time)\n",
    "#2\n",
    "start_time = datetime.now()\n",
    "print(df.groupby(['education'])['writing score'].agg(['min']))\n",
    "print(datetime.now() - start_time)"
   ]
  },
  {
   "cell_type": "markdown",
   "metadata": {},
   "source": [
    "**Задание 12. Выполните задание 11 с помощью циклов. Сравните время выполнения.**"
   ]
  },
  {
   "cell_type": "code",
   "execution_count": 93,
   "metadata": {},
   "outputs": [
    {
     "name": "stdout",
     "output_type": "stream",
     "text": [
      "group B 67.35263157894737\n",
      "group D 70.03053435114504\n",
      "group C 69.10344827586206\n",
      "group E 73.02857142857142\n",
      "group A 64.67415730337079\n",
      "0:00:00.028677\n",
      "some college 19\n",
      "bachelor's degree 38\n",
      "associate's degree 35\n",
      "high school 15\n",
      "master's degree 46\n",
      "some high school 10\n",
      "0:00:00.019709\n"
     ]
    }
   ],
   "source": [
    "#1\n",
    "start_time = datetime.now()\n",
    "\n",
    "dictionary = {}\n",
    "for i in range(len(df)):\n",
    "    if df.loc[i, 'race/ethnicity'] in dictionary.keys():\n",
    "        dictionary[df.loc[i, 'race/ethnicity']][0] += df.loc[i, 'reading score']\n",
    "        dictionary[df.loc[i, 'race/ethnicity']][1] += 1\n",
    "    else:\n",
    "        dictionary.update({df.loc[i, 'race/ethnicity']: [df.loc[i, 'reading score'], 1]})\n",
    "\n",
    "for k in dictionary.keys():\n",
    "    print(k, dictionary[k][0]/dictionary[k][1])\n",
    "\n",
    "print(datetime.now() - start_time) #не сильно то и дольше. но на больших данных может быть значительно\n",
    "\n",
    "#2\n",
    "start_time = datetime.now()\n",
    "\n",
    "dictionary = {}\n",
    "for i in range(len(df)):\n",
    "    if df.loc[i, 'education'] in dictionary.keys():\n",
    "        if dictionary[df.loc[i, 'education']] > df.loc[i, 'writing score']:\n",
    "            dictionary[df.loc[i, 'education']] = df.loc[i, 'writing score']\n",
    "    else:\n",
    "        dictionary.update({df.loc[i, 'education']: df.loc[i, 'writing score']})\n",
    "\n",
    "for k in dictionary.keys():\n",
    "    print(k, dictionary[k])\n",
    "\n",
    "print(datetime.now() - start_time) #cильно дольше, резонней использовать то, что написано в задании выше\n"
   ]
  },
  {
   "cell_type": "markdown",
   "metadata": {},
   "source": [
    "**Задание 13. Выведите на экран средние баллы студентов по каждому предмету в зависимости от пола и уровня образования. То есть должно получиться количество групп, равных 2 * (число уровней образования), и для каждой такой группы выыведите средний балл по каждому из предметов.**\n",
    "\n",
    "Это можно сделать с помощью сводных таблиц (pivot_table):\n",
    "\n",
    "https://www.kaggle.com/kamilpolak/tutorial-how-to-use-pivot-table-in-pandas"
   ]
  },
  {
   "cell_type": "code",
   "execution_count": null,
   "metadata": {},
   "outputs": [],
   "source": []
  },
  {
   "cell_type": "markdown",
   "metadata": {
    "_uuid": "3e832cb427c4314582d1953a41b8c78db75e30e3"
   },
   "source": [
    "#### Задание 14. Сколько студентов успешно сдали экзамен по математике?\n",
    "\n",
    "Создайте новый столбец в таблице df под названием Math_PassStatus и запишите в него F, если студент не сдал экзамен по математике (балл за экзамен < passmark), и P иначе.\n",
    "\n",
    "Посчитайте количество студентов, сдавших и не сдавших экзамен по математике.\n",
    "\n",
    "Сделайте аналогичные шаги для экзаменов по чтению и письму."
   ]
  },
  {
   "cell_type": "code",
   "execution_count": 107,
   "metadata": {
    "_uuid": "f43cddb72cc96b30df84bc0de83a4d9170904340"
   },
   "outputs": [
    {
     "name": "stdout",
     "output_type": "stream",
     "text": [
      "     gender race/ethnicity           education         lunch test preparation  \\\n",
      "0      male        group B        some college      standard             none   \n",
      "1      male        group D   bachelor's degree      standard        completed   \n",
      "2    female        group D  associate's degree      standard             none   \n",
      "3      male        group B         high school      standard        completed   \n",
      "4      male        group C        some college      standard        completed   \n",
      "..      ...            ...                 ...           ...              ...   \n",
      "995  female        group E     master's degree      standard        completed   \n",
      "996    male        group C         high school  free/reduced             none   \n",
      "997  female        group C         high school  free/reduced        completed   \n",
      "998  female        group D        some college      standard        completed   \n",
      "999  female        group D        some college  free/reduced             none   \n",
      "\n",
      "       group  math score  reading score  writing score Math_PassStatus  \\\n",
      "0     group2          79             67             67               P   \n",
      "1     group2          68             74             74               P   \n",
      "2     group2          85             91             89               P   \n",
      "3     group2          60             44             47               P   \n",
      "4     group2          98             86             90               P   \n",
      "..       ...         ...            ...            ...             ...   \n",
      "995  group10          88             99             95               P   \n",
      "996  group10          62             55             55               P   \n",
      "997  group10          59             71             65               P   \n",
      "998  group10          68             78             77               P   \n",
      "999  group10          77             86             86               P   \n",
      "\n",
      "    Reading_PassStatus Writing_PassStatus  \n",
      "0                    P                  P  \n",
      "1                    P                  P  \n",
      "2                    P                  P  \n",
      "3                    F                  F  \n",
      "4                    P                  P  \n",
      "..                 ...                ...  \n",
      "995                  P                  P  \n",
      "996                  P                  P  \n",
      "997                  P                  P  \n",
      "998                  P                  P  \n",
      "999                  P                  P  \n",
      "\n",
      "[1000 rows x 12 columns]\n",
      "865\n",
      "135\n",
      "910\n",
      "90\n",
      "886\n",
      "114\n"
     ]
    }
   ],
   "source": [
    "def check_result(res):\n",
    "    if(res < passmark):\n",
    "        return 'F'\n",
    "    else:\n",
    "        return 'P'\n",
    "df['Math_PassStatus'] = ['']*len(df)\n",
    "df['Reading_PassStatus'] = ['']*len(df)\n",
    "df['Writing_PassStatus'] = ['']*len(df)\n",
    "\n",
    "for i in range(len(df)):\n",
    "    if(df.loc[i, 'math score'] < passmark):\n",
    "        df.loc[i, 'Math_PassStatus'] = 'F'\n",
    "    else:\n",
    "        df.loc[i, 'Math_PassStatus'] = 'P'\n",
    "    if(df.loc[i, 'reading score'] < passmark):\n",
    "        df.loc[i, 'Reading_PassStatus'] = 'F'\n",
    "    else:\n",
    "        df.loc[i, 'Reading_PassStatus'] = 'P'\n",
    "    if(df.loc[i, 'writing score'] < passmark):\n",
    "        df.loc[i, 'Writing_PassStatus'] = 'F'\n",
    "    else:\n",
    "        df.loc[i, 'Writing_PassStatus'] = 'P'\n",
    "print(df)\n",
    "print(df.loc[df['Math_PassStatus'] == 'P']['Math_PassStatus'].count())\n",
    "print(df.loc[df['Math_PassStatus'] == 'F']['Math_PassStatus'].count())\n",
    "print(df.loc[df['Reading_PassStatus'] == 'P']['Reading_PassStatus'].count())\n",
    "print(df.loc[df['Reading_PassStatus'] == 'F']['Reading_PassStatus'].count())\n",
    "print(df.loc[df['Writing_PassStatus'] == 'P']['Writing_PassStatus'].count())\n",
    "print(df.loc[df['Writing_PassStatus'] == 'F']['Writing_PassStatus'].count())"
   ]
  },
  {
   "cell_type": "markdown",
   "metadata": {
    "_uuid": "b753c90914ee65501e2ed263ea614d88a381c472"
   },
   "source": [
    "#### Задание 15. Сколько студентов успешно сдали все экзамены?\n",
    "\n",
    "Создайте столбец OverAll_PassStatus и запишите в него для каждого студента 'F', если студент не сдал хотя бы один из трех экзаменов, а иначе 'P'.\n",
    "\n",
    "Посчитайте количество студентов, которые сдали все экзамены."
   ]
  },
  {
   "cell_type": "code",
   "execution_count": 125,
   "metadata": {
    "_uuid": "e98f895a022b967cab801447b616222439fe9d84"
   },
   "outputs": [
    {
     "name": "stdout",
     "output_type": "stream",
     "text": [
      "     gender race/ethnicity           education         lunch test preparation  \\\n",
      "0      male        group B        some college      standard             none   \n",
      "1      male        group D   bachelor's degree      standard        completed   \n",
      "2    female        group D  associate's degree      standard             none   \n",
      "3      male        group B         high school      standard        completed   \n",
      "4      male        group C        some college      standard        completed   \n",
      "..      ...            ...                 ...           ...              ...   \n",
      "995  female        group E     master's degree      standard        completed   \n",
      "996    male        group C         high school  free/reduced             none   \n",
      "997  female        group C         high school  free/reduced        completed   \n",
      "998  female        group D        some college      standard        completed   \n",
      "999  female        group D        some college  free/reduced             none   \n",
      "\n",
      "       group  math score  reading score  writing score Math_PassStatus  \\\n",
      "0     group2          79             67             67               P   \n",
      "1     group2          68             74             74               P   \n",
      "2     group2          85             91             89               P   \n",
      "3     group2          60             44             47               P   \n",
      "4     group2          98             86             90               P   \n",
      "..       ...         ...            ...            ...             ...   \n",
      "995  group10          88             99             95               P   \n",
      "996  group10          62             55             55               P   \n",
      "997  group10          59             71             65               P   \n",
      "998  group10          68             78             77               P   \n",
      "999  group10          77             86             86               P   \n",
      "\n",
      "    Reading_PassStatus Writing_PassStatus Grade OverAll_PassStatus  \n",
      "0                    P                  P     C                  P  \n",
      "1                    P                  P     C                  P  \n",
      "2                    P                  P     B                  P  \n",
      "3                    F                  F     E                  F  \n",
      "4                    P                  P     A                  P  \n",
      "..                 ...                ...   ...                ...  \n",
      "995                  P                  P     A                  P  \n",
      "996                  P                  P     E                  P  \n",
      "997                  P                  P     D                  P  \n",
      "998                  P                  P     C                  P  \n",
      "999                  P                  P     B                  P  \n",
      "\n",
      "[1000 rows x 14 columns]\n",
      "OverAll_PassStatus\n",
      "F    188\n",
      "P    812\n",
      "Name: OverAll_PassStatus, dtype: int64\n"
     ]
    }
   ],
   "source": [
    "df['OverAll_PassStatus'] = ['']*len(df)\n",
    "for i in range(len(df)):\n",
    "    if(df.loc[i, 'Math_PassStatus'] == 'F' or df.loc[i, 'Reading_PassStatus'] == 'F' or df.loc[i, 'Writing_PassStatus'] == 'F'):\n",
    "        df.loc[i, 'OverAll_PassStatus'] = 'F'\n",
    "    else:\n",
    "        df.loc[i, 'OverAll_PassStatus'] = 'P'\n",
    "print(df)\n",
    "print(df.groupby(['OverAll_PassStatus'])['OverAll_PassStatus'].count())"
   ]
  },
  {
   "cell_type": "markdown",
   "metadata": {
    "_uuid": "3af9c6cb4cbfff66d4ae09509f10b8b6ce33075d"
   },
   "source": [
    "#### Задание 16. Переведем баллы в оценки\n",
    "\n",
    "### Система перевода баллов в оценки\n",
    "####    больше 90 = A\n",
    "####      80-90 = B\n",
    "####      70-80 = C\n",
    "####      60-70 = D\n",
    "####      50-60 = E\n",
    "####    меньше 50 = F (Fail)\n",
    "\n",
    "Создайте вспомогательную функцию, которая будет по среднему баллу за три экзамена выставлять оценку студенту по данным выше критериям.\n",
    "\n",
    "Создайте столбец Grade и запишите в него оценку каждого студента.\n",
    "\n",
    "Выведите количество студентов, получивших каждую из оценок.\n",
    "\n",
    "**В случае, если средний балл попадает на границу между оценками (т.е. равен ровно 60, 70 или 80 баллов), вы можете интерпретировать условие на своё усмотрение (т.е. можете поставить за 60 баллов оценку D, а можете - E).**"
   ]
  },
  {
   "cell_type": "code",
   "execution_count": 123,
   "metadata": {
    "_uuid": "04707c5be4237020b906d2ac705a0db3d620506f"
   },
   "outputs": [
    {
     "name": "stdout",
     "output_type": "stream",
     "text": [
      "     gender race/ethnicity           education         lunch test preparation  \\\n",
      "0      male        group B        some college      standard             none   \n",
      "1      male        group D   bachelor's degree      standard        completed   \n",
      "2    female        group D  associate's degree      standard             none   \n",
      "3      male        group B         high school      standard        completed   \n",
      "4      male        group C        some college      standard        completed   \n",
      "..      ...            ...                 ...           ...              ...   \n",
      "995  female        group E     master's degree      standard        completed   \n",
      "996    male        group C         high school  free/reduced             none   \n",
      "997  female        group C         high school  free/reduced        completed   \n",
      "998  female        group D        some college      standard        completed   \n",
      "999  female        group D        some college  free/reduced             none   \n",
      "\n",
      "       group  math score  reading score  writing score Math_PassStatus  \\\n",
      "0     group2          79             67             67               P   \n",
      "1     group2          68             74             74               P   \n",
      "2     group2          85             91             89               P   \n",
      "3     group2          60             44             47               P   \n",
      "4     group2          98             86             90               P   \n",
      "..       ...         ...            ...            ...             ...   \n",
      "995  group10          88             99             95               P   \n",
      "996  group10          62             55             55               P   \n",
      "997  group10          59             71             65               P   \n",
      "998  group10          68             78             77               P   \n",
      "999  group10          77             86             86               P   \n",
      "\n",
      "    Reading_PassStatus Writing_PassStatus Grade  \n",
      "0                    P                  P     C  \n",
      "1                    P                  P     C  \n",
      "2                    P                  P     B  \n",
      "3                    F                  F     E  \n",
      "4                    P                  P     A  \n",
      "..                 ...                ...   ...  \n",
      "995                  P                  P     A  \n",
      "996                  P                  P     E  \n",
      "997                  P                  P     D  \n",
      "998                  P                  P     C  \n",
      "999                  P                  P     B  \n",
      "\n",
      "[1000 rows x 13 columns]\n",
      "Grade\n",
      "A     52\n",
      "B    146\n",
      "C    261\n",
      "D    256\n",
      "E    182\n",
      "F    103\n",
      "Name: Grade, dtype: int64\n"
     ]
    }
   ],
   "source": [
    "def GetGrade(average_mark):\n",
    "    if(average_mark < 50):\n",
    "        return 'F'\n",
    "    elif(average_mark >= 50 and average_mark < 60):\n",
    "        return 'E'\n",
    "    elif(average_mark >= 60 and average_mark < 70):\n",
    "        return 'D'\n",
    "    elif(average_mark >= 70 and average_mark < 80):\n",
    "        return 'C'\n",
    "    elif(average_mark >= 80 and average_mark < 90):\n",
    "        return 'B'\n",
    "    elif(average_mark >= 90):\n",
    "        return 'A'\n",
    "\n",
    "df['Grade'] = ['']*len(df)\n",
    "for i in range(len(df)):\n",
    "    df.loc[i, 'Grade'] = GetGrade((df.loc[i, 'math score'] + df.loc[i, 'reading score'] + df.loc[i, 'writing score'])/3)\n",
    "print(df)\n",
    "\n",
    "print(df.groupby(['Grade'])['Grade'].count())"
   ]
  },
  {
   "cell_type": "code",
   "execution_count": null,
   "outputs": [],
   "source": [],
   "metadata": {
    "collapsed": false
   }
  }
 ],
 "metadata": {
  "kernelspec": {
   "display_name": "Python 3 (ipykernel)",
   "language": "python",
   "name": "python3"
  },
  "language_info": {
   "codemirror_mode": {
    "name": "ipython",
    "version": 3
   },
   "file_extension": ".py",
   "mimetype": "text/x-python",
   "name": "python",
   "nbconvert_exporter": "python",
   "pygments_lexer": "ipython3",
   "version": "3.7.9"
  }
 },
 "nbformat": 4,
 "nbformat_minor": 1
}
