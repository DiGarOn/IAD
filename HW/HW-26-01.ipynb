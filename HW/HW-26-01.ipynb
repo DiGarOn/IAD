{
 "cells": [
  {
   "cell_type": "code",
   "execution_count": 1,
   "id": "f4991ef6",
   "metadata": {},
   "outputs": [],
   "source": [
    "import numpy as np"
   ]
  },
  {
   "cell_type": "code",
   "execution_count": 12,
   "id": "3dcd96f4",
   "metadata": {},
   "outputs": [],
   "source": [
    "def result_mark(weights: np.array, marks: np.array) -> int:\n",
    "    return np.round(np.sum(weights * marks))"
   ]
  },
  {
   "cell_type": "markdown",
   "id": "d78433bf",
   "metadata": {},
   "source": [
    "# Задание 1\n",
    "Напишите функцию, возвращающую округленную взвешенную сумму оценок по данным оценкам и весам. \n",
    "Можете посчитать свою оценку за курс :) \n",
    "В нашем случае вес экзамена равен 0.3, вес домашек - 0.4, вес контрольной - 0.2, вес самостоятельных - 0.1. Например, если за экзамен у вас 7, за домашки 10, за контрольную 8, а за самостоятельные 6, то вы получите отличную оценку 8!"
   ]
  },
  {
   "cell_type": "code",
   "execution_count": 14,
   "id": "23677c31",
   "metadata": {},
   "outputs": [],
   "source": [
    "weights = np.array([0.3, 0.4, 0.2, 0.1])\n",
    "marks = np.array([7, 10, 8, 6])\n",
    "# print(result_mark(weights, marks))\n",
    "assert result_mark(weights, marks) == 8"
   ]
  },
  {
   "cell_type": "code",
   "execution_count": 15,
   "id": "85d37c8c",
   "metadata": {},
   "outputs": [],
   "source": [
    "weights = np.array([0.3, 0.4, 0.2, 0.1])\n",
    "marks = np.array([7, 0, 8, 6])\n",
    "\n",
    "assert result_mark(weights, marks) == 4"
   ]
  },
  {
   "cell_type": "code",
   "execution_count": 17,
   "id": "c021fdbe",
   "metadata": {},
   "outputs": [],
   "source": [
    "weights = np.array([0.3, 0.4, 0.2, 0.1])\n",
    "marks = np.array([0, 0, 0, 1])\n",
    "\n",
    "assert result_mark(weights, marks) == 0"
   ]
  },
  {
   "cell_type": "markdown",
   "id": "2b46c9b6",
   "metadata": {},
   "source": [
    "# Задание 2\n",
    "Напишите функцию, меняющую каждое третье (начиная с 0) значение массива целых чисел на заданное число. Например, если на вход поступает массив array([3, 5, 1, 0, -3, 22, 213436]) и число -111, то на выходе должен получиться массив array([-111, 5, 1, -111, -3, 22, -111])."
   ]
  },
  {
   "cell_type": "code",
   "execution_count": 31,
   "id": "38568ab9",
   "metadata": {},
   "outputs": [],
   "source": [
    "def change_array(array: np.array, number: int) -> np.array:\n",
    "    array[::3] = number\n",
    "    return array"
   ]
  },
  {
   "cell_type": "code",
   "execution_count": 34,
   "id": "c0d305dd",
   "metadata": {},
   "outputs": [],
   "source": [
    "array = np.array([3, 5, 1, 0, -3, 22, 213436])\n",
    "number = -111\n",
    "\n",
    "assert np.allclose(change_array(array, number), np.array([-111, 5, 1, -111, -3, 22, -111]))"
   ]
  },
  {
   "cell_type": "code",
   "execution_count": 35,
   "id": "1d8dfa62",
   "metadata": {},
   "outputs": [],
   "source": [
    "array = np.array([3, 14, 15, 92, 6])\n",
    "number = 8\n",
    "\n",
    "assert np.allclose(change_array(array, number), np.array([8, 14, 15, 8, 6]))"
   ]
  },
  {
   "cell_type": "markdown",
   "id": "33ab9f3c",
   "metadata": {},
   "source": [
    "# Задание 3\n",
    "Напишите функцию, выдающую индексы «близких» элементов заданных массивов, а именно тех пар элементов, чей модуль разницы не превосходит заданного значения. Например, если на вход поступают массив array([1.5, 0.5, 2, -4.1, -3, 6, -1]), массив array([1.2, 0.5, 1, -4, 3, 0, -1.2]) и число 0.5, то на выходе должен получиться массив array([0, 1, 3, 6]) (важно: не tuple, а одномерный массив типа numpy.ndarray (то есть .ndim от него равно 1)!)."
   ]
  },
  {
   "cell_type": "code",
   "execution_count": 232,
   "id": "8d780b35",
   "metadata": {},
   "outputs": [],
   "source": [
    "def find_close(array1: np.array, array2: np.array,\n",
    "               precision: float) -> np.array:\n",
    "    res = abs(array1-array2) <= precision\n",
    "    return np.where(res == True)[0]"
   ]
  },
  {
   "cell_type": "code",
   "execution_count": 233,
   "id": "4a37ad1d",
   "metadata": {},
   "outputs": [],
   "source": [
    "array1 = np.array([1.5, 0.5, 2, -4.1, -3, 6, -1])\n",
    "array2 = np.array([1.2, 0.5, 1, -4.0,  3, 0, -1.2])\n",
    "precision = 0.5\n",
    "res = find_close(array1, array2, precision)\n",
    "\n",
    "assert res.ndim == 1\n",
    "assert np.allclose(res, np.array([0, 1, 3, 6]))"
   ]
  },
  {
   "cell_type": "code",
   "execution_count": 234,
   "id": "e552f6ee",
   "metadata": {},
   "outputs": [],
   "source": [
    "array1 = np.array([3.1415, 2.7182, 1.6180, 6.6261])\n",
    "array2 = np.array([6.6730, 1.3807, -1,     6.0222])\n",
    "precision = 1.7\n",
    "res = find_close(array1, array2, precision)\n",
    "\n",
    "assert res.ndim == 1\n",
    "assert np.allclose(res, np.array([1, 3]))"
   ]
  },
  {
   "cell_type": "markdown",
   "id": "683cbd01",
   "metadata": {},
   "source": [
    "# Задание 4\n",
    "Напишите функцию, которая составляет блочную матрицу из четырех блоков, где каждый блок - это заданная матрица. Например, если на вход поступает матрица\n",
    " \n",
    "(\n",
    "0\t1\t2\t\n",
    "3\t4\t5 \n",
    ")\n",
    ",\n",
    "то ответом будет матрица\n",
    "\n",
    "(\n",
    "0 1 2 0 1 2\n",
    "\n",
    "3 4 5 3 4 5\n",
    "\n",
    "0 1 2 0 1 2\n",
    "\n",
    "3 4 5 3 4 5\n",
    ")\n",
    " \n"
   ]
  },
  {
   "cell_type": "code",
   "execution_count": 59,
   "id": "25bffa8b",
   "metadata": {},
   "outputs": [],
   "source": [
    "def block_matrix(block: np.array) -> np.array:\n",
    "    a = np.vstack([block,block])\n",
    "    return np.hstack([a,a])"
   ]
  },
  {
   "cell_type": "code",
   "execution_count": 61,
   "id": "93364761",
   "metadata": {},
   "outputs": [],
   "source": [
    "block = np.array([[1, 3, 3], [7, 0, 0]])\n",
    "\n",
    "assert np.allclose(\n",
    "    block_matrix(block),\n",
    "    np.array([[1, 3, 3, 1, 3, 3],\n",
    "              [7, 0, 0, 7, 0, 0],\n",
    "              [1, 3, 3, 1, 3, 3],\n",
    "              [7, 0, 0, 7, 0, 0]])\n",
    ")"
   ]
  },
  {
   "cell_type": "markdown",
   "id": "5d234471",
   "metadata": {},
   "source": [
    "# Задание 5\n",
    "Напишите функцию, вычисляющую произведение всех ненулевых диагональных элементов на диагонали данной квадратной матрицы. Например, если на вход поступает матрица\n",
    " \n",
    "(\n",
    "0\t1\t2\t\n",
    "\n",
    "3\t4\t5\t\n",
    "\n",
    "6\t7\t8 \n",
    ")\n",
    ",\n",
    "то ответом будет 32.\n",
    "\n",
    "Элементы матрицы считать целочисленными."
   ]
  },
  {
   "cell_type": "code",
   "execution_count": 64,
   "id": "e05827b0",
   "metadata": {},
   "outputs": [],
   "source": [
    "def diag_prod(matrix: np.array) -> int:\n",
    "    return np.prod(np.diag(matrix)[np.diag(matrix)!=0])\n"
   ]
  },
  {
   "cell_type": "code",
   "execution_count": 65,
   "id": "b6db1145",
   "metadata": {},
   "outputs": [],
   "source": [
    "matrix = np.array([[0, 1, 2, 3],\n",
    "                   [4, 5, 6, 7],\n",
    "                   [8, 9, 10, 11],\n",
    "                   [12, 13, 14, 15]])\n",
    "\n",
    "assert diag_prod(matrix) == 750"
   ]
  },
  {
   "cell_type": "markdown",
   "id": "95040a92",
   "metadata": {},
   "source": [
    "# Задание 6\n",
    "Для улучшения качества работы некоторых алгоритмов машинного обучения может быть полезно использовать нормализацию данных, чтобы привести признаки в выборке к одному масштабу — а именно, из каждого столбца вычесть среднее его значений и поделить на их стандартное отклонение. Напишите функцию, нормализующую входящую матрицу (по столбцам). Например, если на вход подается матрица\n",
    " \n",
    "(\n",
    "1\t4\t4200\t\n",
    "\n",
    "0\t10\t5000\t\n",
    "\n",
    "1\t2\t1000 \n",
    ")\n",
    ",\n",
    "то результатом с точностью до сотых будет матрица\n",
    " \n",
    "(\n",
    "0.71\t−0.39\t0.46\t\n",
    "\n",
    "−1.41\t1.37\t0.93\t\n",
    "\n",
    "0.71\t−0.98\t−1.39 \n",
    ")\n",
    "\n",
    "Учтите, что в вашем матрице не должно получаться никаких nan. Подумайте, в каком случае они могут возникнуть и как обойти эту проблему.\n",
    "\n",
    "Подсказка. Казалось бы, при чем тут деление на ноль."
   ]
  },
  {
   "cell_type": "code",
   "execution_count": 241,
   "id": "a295c5b6",
   "metadata": {},
   "outputs": [],
   "source": [
    "def normalize(matrix: np.array) -> np.array:\n",
    "    try:\n",
    "        av = np.mean(matrix, axis=0)\n",
    "    except:\n",
    "        av = 0\n",
    "    try:\n",
    "        st = np.std(matrix, axis = 0)\n",
    "    except:\n",
    "        st = 1\n",
    "    \n",
    "    return (matrix - av)/st"
   ]
  },
  {
   "cell_type": "code",
   "execution_count": 242,
   "id": "8c3a747a",
   "metadata": {},
   "outputs": [],
   "source": [
    "matrix = np.array([[1, 4, 4200], [0, 10, 5000], [1, 2, 1000]])\n",
    "\n",
    "assert np.allclose(\n",
    "    normalize(matrix),\n",
    "    np.array([[ 0.7071, -0.39223,  0.46291],\n",
    "              [-1.4142,  1.37281,  0.92582],\n",
    "              [ 0.7071, -0.98058, -1.38873]])\n",
    ")"
   ]
  },
  {
   "cell_type": "code",
   "execution_count": 243,
   "id": "8eceabbf",
   "metadata": {},
   "outputs": [],
   "source": [
    "matrix = np.array([[-7, 2, 42], [2, 10, 50], [5, 4, 10]])\n",
    "\n",
    "assert np.allclose(\n",
    "    normalize(matrix),\n",
    "    np.array([[-1.37281, -0.98058,  0.46291],\n",
    "              [ 0.39223,  1.37281,  0.92582],\n",
    "              [ 0.98058, -0.39223, -1.38873]])\n",
    ")"
   ]
  },
  {
   "cell_type": "markdown",
   "id": "606cf63c",
   "metadata": {},
   "source": [
    "# Задание 7\n",
    "Написать функцию, возвращающую максимальный элемент в векторе x среди элементов, перед которыми стоит нулевой. \n",
    "Для x = np.array([6, 2, 0, 3, 0, 0, 5, 7, 0]) ответом является 5."
   ]
  },
  {
   "cell_type": "code",
   "execution_count": 170,
   "id": "7d74ce5c",
   "metadata": {},
   "outputs": [],
   "source": [
    "def prevZeroMax(matrix: np.array) -> int:\n",
    "    a = np.argwhere(matrix[:-1] == 0)\n",
    "    return max(matrix[a[::]+1])"
   ]
  },
  {
   "cell_type": "code",
   "execution_count": 173,
   "id": "d8dc437b",
   "metadata": {},
   "outputs": [],
   "source": [
    "coefs = np.array([6, 2, 0, 3, 0, 0, 5, 7, 0])\n",
    "\n",
    "assert  prevZeroMax(coefs) == 5"
   ]
  },
  {
   "cell_type": "code",
   "execution_count": 174,
   "id": "0afbf2c2",
   "metadata": {},
   "outputs": [],
   "source": [
    "coefs = np.array([1, 0, 1, 0, 4, 2, 0])\n",
    "\n",
    "assert prevZeroMax(coefs) == 4"
   ]
  },
  {
   "cell_type": "markdown",
   "id": "fd6fd8bb",
   "metadata": {},
   "source": [
    "# Задание 8\n",
    "Напишите функцию, делающую данную треугольную матрицу симметричной. Например, если на вход поступает матрица\n",
    " \n",
    "(\n",
    "1\t2\t3\t4\n",
    "\n",
    "0\t5\t6\t7\n",
    "\n",
    "0   0\t8\t9\n",
    "    \n",
    "0\t0\t0\t10 \n",
    ")\n",
    ",\n",
    "то на выходе должна быть матрица\n",
    " \n",
    "(\n",
    "1\t2\t3\t4\n",
    "\n",
    "2\t5\t6\t7\n",
    "\n",
    "3\t6\t8\t9\n",
    "    \n",
    "4\t7\t9\t10 \n",
    ")\n",
    ".\n"
   ]
  },
  {
   "cell_type": "code",
   "execution_count": 131,
   "id": "416ae185",
   "metadata": {},
   "outputs": [],
   "source": [
    "def make_symmetric(matrix: np.array) -> np.array:\n",
    "    a = matrix + matrix.transpose()\n",
    "    np.fill_diagonal(a, np.diagonal(matrix))\n",
    "    return a"
   ]
  },
  {
   "cell_type": "code",
   "execution_count": 134,
   "id": "37d8354a",
   "metadata": {},
   "outputs": [],
   "source": [
    "matrix = np.array([[1, 2, 3, 4], [0, 5, 6, 7], [0, 0, 8, 9], [0, 0, 0, 10]])\n",
    "\n",
    "assert np.allclose(\n",
    "    make_symmetric(matrix),\n",
    "    np.array([[ 1,  2,  3,  4],\n",
    "              [ 2,  5,  6,  7],\n",
    "              [ 3,  6,  8,  9],\n",
    "              [ 4,  7,  9, 10]])\n",
    ")"
   ]
  },
  {
   "cell_type": "code",
   "execution_count": 135,
   "id": "54452b7a",
   "metadata": {},
   "outputs": [],
   "source": [
    "matrix = np.array([[10, 21, 32, 49], [0, 53, 62, 78], [0, 0, 82, 92], [0, 0, 0, 10]])\n",
    "\n",
    "assert np.allclose(\n",
    "    make_symmetric(matrix),\n",
    "    np.array([[10, 21, 32, 49],\n",
    "              [21, 53, 62, 78],\n",
    "              [32, 62, 82, 92],\n",
    "              [49, 78, 92, 10]])\n",
    ")"
   ]
  },
  {
   "cell_type": "markdown",
   "id": "c9476fa2",
   "metadata": {},
   "source": [
    "# Задание 9\n",
    "Напишите функцию, создающую прямоугольную матрицу из m одинаковых строк, заполненных последовательными натуральными числами от a до b включительно в возрастающем порядке. Например, если m = 5, a = 3, b = 10, то на выходе будет матрица\n",
    " \n",
    "(\n",
    "3\t4\t5\t6\t7\t8\t9\t10\n",
    "\n",
    "3\t4\t5\t6\t7\t8\t9\t10\n",
    "\n",
    "3\t4\t5\t6\t7\t8\t9\t10\n",
    "\n",
    "3\t4\t5\t6\t7\t8\t9\t10\n",
    "\n",
    "3\t4\t5\t6\t7\t8\t9\t10 \n",
    ")\n",
    " "
   ]
  },
  {
   "cell_type": "code",
   "execution_count": 103,
   "id": "005195e8",
   "metadata": {},
   "outputs": [],
   "source": [
    "def construct_matrix(m: int, a: int, b: int) -> np.array:\n",
    "    return np.vstack([np.arange(a,b+1)]*m)"
   ]
  },
  {
   "cell_type": "code",
   "execution_count": 106,
   "id": "b8b6cb7c",
   "metadata": {},
   "outputs": [],
   "source": [
    "m = 5\n",
    "a = 3\n",
    "b = 10\n",
    "\n",
    "assert np.allclose(\n",
    "    construct_matrix(m, a, b),\n",
    "    np.array([[ 3,  4,  5,  6,  7,  8,  9, 10],\n",
    "              [ 3,  4,  5,  6,  7,  8,  9, 10],\n",
    "              [ 3,  4,  5,  6,  7,  8,  9, 10],\n",
    "              [ 3,  4,  5,  6,  7,  8,  9, 10],\n",
    "              [ 3,  4,  5,  6,  7,  8,  9, 10]])\n",
    ")"
   ]
  },
  {
   "cell_type": "code",
   "execution_count": 107,
   "id": "64689e83",
   "metadata": {},
   "outputs": [],
   "source": [
    "m = 3\n",
    "a = 2\n",
    "b = 6\n",
    "\n",
    "assert np.allclose(\n",
    "    construct_matrix(m, a, b),\n",
    "    np.array([[2, 3, 4, 5, 6],\n",
    "              [2, 3, 4, 5, 6],\n",
    "              [2, 3, 4, 5, 6]])\n",
    ")"
   ]
  },
  {
   "cell_type": "markdown",
   "id": "555b0c16",
   "metadata": {},
   "source": [
    "# Задание 10\n",
    "Напишите функцию, вычисляющую косинусную близость двух векторов. Например, если на вход поступают вектора array([-2, 1, 0, -5, 4, 3, -3]) и array([0, 2, -2, 10, 6, 0, 0]), ответом будет -0.25."
   ]
  },
  {
   "cell_type": "code",
   "execution_count": 87,
   "id": "f7bdcd5e",
   "metadata": {},
   "outputs": [],
   "source": [
    "def cosine_similarity(vec1: np.array, vec2: np.array) -> float:\n",
    "    return np.dot(vec1, vec2)/(np.linalg.norm(vec1)*np.linalg.norm(vec2))"
   ]
  },
  {
   "cell_type": "code",
   "execution_count": 88,
   "id": "fc9ab484",
   "metadata": {},
   "outputs": [],
   "source": [
    "vec1 = np.array([-2, 1,  0, -5, 4, 3, -3])\n",
    "vec2 = np.array([ 0, 2, -2, 10, 6, 0,  0])\n",
    "\n",
    "assert np.allclose(cosine_similarity(vec1, vec2), -0.25)"
   ]
  },
  {
   "cell_type": "code",
   "execution_count": 89,
   "id": "61da91b1",
   "metadata": {},
   "outputs": [],
   "source": [
    "vec1 = np.array([-4, 2,  9, -8, 9, 0, -2])\n",
    "vec2 = np.array([ 3, 2, -4, -1, 3, 2,  2])\n",
    "\n",
    "assert np.allclose(cosine_similarity(vec1, vec2), -0.119929)"
   ]
  }
 ],
 "metadata": {
  "kernelspec": {
   "display_name": "Python 3 (ipykernel)",
   "language": "python",
   "name": "python3"
  },
  "language_info": {
   "codemirror_mode": {
    "name": "ipython",
    "version": 3
   },
   "file_extension": ".py",
   "mimetype": "text/x-python",
   "name": "python",
   "nbconvert_exporter": "python",
   "pygments_lexer": "ipython3",
   "version": "3.9.12"
  }
 },
 "nbformat": 4,
 "nbformat_minor": 5
}
